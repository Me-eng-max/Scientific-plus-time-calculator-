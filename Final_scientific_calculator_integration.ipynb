{
  "nbformat": 4,
  "nbformat_minor": 0,
  "metadata": {
    "colab": {
      "provenance": [],
      "authorship_tag": "ABX9TyPwSnZ6iXaAGhaAqKOlWyVV",
      "include_colab_link": true
    },
    "kernelspec": {
      "name": "python3",
      "display_name": "Python 3"
    },
    "language_info": {
      "name": "python"
    }
  },
  "cells": [
    {
      "cell_type": "markdown",
      "metadata": {
        "id": "view-in-github",
        "colab_type": "text"
      },
      "source": [
        "<a href=\"https://colab.research.google.com/github/Me-eng-max/Scientific-plus-time-calculator-/blob/main/Final_scientific_calculator_integration.ipynb\" target=\"_parent\"><img src=\"https://colab.research.google.com/assets/colab-badge.svg\" alt=\"Open In Colab\"/></a>"
      ]
    },
    {
      "cell_type": "code",
      "source": [
        "\n",
        "# Install the pytz library for time calculations\n",
        "!pip install pytz\n",
        "\n",
        "import math\n",
        "import pytz\n",
        "from datetime import datetime\n",
        "\n",
        "# Dictionary of common cities and their timezones\n",
        "cities_timezones = {\n",
        "    'New York': 'America/New_York',\n",
        "    'London': 'Europe/London',\n",
        "    'Karachi': 'Asia/Karachi',\n",
        "    'Tokyo': 'Asia/Tokyo',\n",
        "    'Sydney': 'Australia/Sydney',\n",
        "    'Paris': 'Europe/Paris'\n",
        "}\n",
        "\n",
        "# Function to get the current time for a specific city\n",
        "def get_time_for_city(city):\n",
        "    try:\n",
        "        timezone = pytz.timezone(cities_timezones[city])\n",
        "        city_time = datetime.now(timezone)\n",
        "        return city_time.strftime('%Y-%m-%d %H:%M:%S')\n",
        "    except KeyError:\n",
        "        return \"City not found. Please choose from the available cities.\"\n",
        "\n",
        "# Time calculator function\n",
        "def time_calculator():\n",
        "    print(\"Available cities:\", \", \".join(cities_timezones.keys()))\n",
        "    city = input(\"Enter the name of the city to check the current time: \")\n",
        "    time = get_time_for_city(city)\n",
        "    print(f\"Current time in {city}: {time}\")\n",
        "\n",
        "# Scientific calculator function\n",
        "def scientific_calculator():\n",
        "    print(\"Choose operation: 1.Add 2.Subtract 3.Multiply 4.Divide 5.Power 6.Square root\")\n",
        "    choice = input(\"Enter choice(1/2/3/4/5/6): \")\n",
        "\n",
        "    if choice == '6':\n",
        "        num = float(input(\"Enter number: \"))\n",
        "        print(f\"Square root of {num} is {math.sqrt(num)}\")\n",
        "    else:\n",
        "        num1 = float(input(\"Enter first number: \"))\n",
        "        num2 = float(input(\"Enter second number: \"))\n",
        "\n",
        "        if choice == '1':\n",
        "            print(f\"{num1} + {num2} = {num1 + num2}\")\n",
        "        elif choice == '2':\n",
        "            print(f\"{num1} - {num2} = {num1 - num2}\")\n",
        "        elif choice == '3':\n",
        "            print(f\"{num1} * {num2} = {num1 * num2}\")\n",
        "        elif choice == '4':\n",
        "            print(f\"{num1} / {num2} = {num1 / num2}\")\n",
        "        elif choice == '5':\n",
        "            print(f\"{num1} ^ {num2} = {math.pow(num1, num2)}\")\n",
        "        else:\n",
        "            print(\"Invalid Input\")\n",
        "\n",
        "# Main function to run both calculators\n",
        "def main():\n",
        "    print(\"Welcome to the integrated Scientific & Time Calculator!\")\n",
        "    while True:\n",
        "        print(\"\\nChoose an option:\")\n",
        "        print(\"1. Scientific Calculator\")\n",
        "        print(\"2. Time Calculator\")\n",
        "        print(\"3. Exit\")\n",
        "        choice = input(\"Enter choice (1/2/3): \")\n",
        "\n",
        "        if choice == '1':\n",
        "            scientific_calculator()\n",
        "        elif choice == '2':\n",
        "            time_calculator()\n",
        "        elif choice == '3':\n",
        "            print(\"Exiting the app.\")\n",
        "            break\n",
        "        else:\n",
        "            print(\"Invalid choice. Please choose 1, 2, or 3.\")\n",
        "\n",
        "# Run the main function\n",
        "main()"
      ],
      "metadata": {
        "colab": {
          "base_uri": "https://localhost:8080/"
        },
        "id": "gQaEVbgEYYB7",
        "outputId": "2fa0eae6-9f13-4c64-ce57-7f9ee1362595"
      },
      "execution_count": null,
      "outputs": [
        {
          "metadata": {
            "tags": null
          },
          "name": "stdout",
          "output_type": "stream",
          "text": [
            "Requirement already satisfied: pytz in /usr/local/lib/python3.10/dist-packages (2024.2)\n",
            "Welcome to the integrated Scientific & Time Calculator!\n",
            "\n",
            "Choose an option:\n",
            "1. Scientific Calculator\n",
            "2. Time Calculator\n",
            "3. Exit\n",
            "Available cities: New York, London, Karachi, Tokyo, Sydney, Paris\n",
            "Current time in Paris: 2024-10-20 16:43:33\n",
            "\n",
            "Choose an option:\n",
            "1. Scientific Calculator\n",
            "2. Time Calculator\n",
            "3. Exit\n",
            "Available cities: New York, London, Karachi, Tokyo, Sydney, Paris\n",
            "Current time in Lahore: City not found. Please choose from the available cities.\n",
            "\n",
            "Choose an option:\n",
            "1. Scientific Calculator\n",
            "2. Time Calculator\n",
            "3. Exit\n"
          ]
        }
      ]
    },
    {
      "cell_type": "markdown",
      "source": [],
      "metadata": {
        "id": "3NZ0wFxeZKdZ"
      }
    },
    {
      "cell_type": "markdown",
      "source": [],
      "metadata": {
        "id": "2RDZc4y6ZLIK"
      }
    },
    {
      "cell_type": "code",
      "source": [],
      "metadata": {
        "id": "iM41vNMbY6vO"
      },
      "execution_count": null,
      "outputs": []
    },
    {
      "cell_type": "code",
      "source": [],
      "metadata": {
        "id": "SuvOGiLEY7cs"
      },
      "execution_count": null,
      "outputs": []
    },
    {
      "cell_type": "markdown",
      "source": [],
      "metadata": {
        "id": "Yqil7YQ4Y83b"
      }
    }
  ]
}